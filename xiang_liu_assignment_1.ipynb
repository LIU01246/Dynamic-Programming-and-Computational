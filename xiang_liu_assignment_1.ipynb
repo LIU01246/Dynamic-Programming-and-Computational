{
 "cells": [
  {
   "cell_type": "markdown",
   "metadata": {},
   "source": [
    "\n",
    "## ECON 8185 - Homework Assignment 1\n",
    "\n",
    "#### Xiang Liu\n",
    "#### Email: liu01246@umn.edu\n",
    "#### ID: 5596987\n",
    "#### I gained help from Yuta, Byungho, Jason. "
   ]
  },
  {
   "cell_type": "code",
   "execution_count": 23,
   "metadata": {},
   "outputs": [],
   "source": [
    "#  Begin by adding the packages Interpolations, Optim\n",
    "# (e.g., https://www.educative.io/answers/how-to-install-julia-packages-via-command-line)\n",
    "#\n",
    "\n",
    "# install packages:\n",
    "\n",
    "# import Pkg\n",
    "# Pkg.add.([\"Interpolations\",\"Optim\", \"PyPlot\", \"LaTeXStrings\"])"
   ]
  },
  {
   "cell_type": "code",
   "execution_count": 24,
   "metadata": {},
   "outputs": [],
   "source": [
    "using Interpolations, Optim"
   ]
  },
  {
   "cell_type": "code",
   "execution_count": 25,
   "metadata": {},
   "outputs": [
    {
     "data": {
      "text/plain": [
       "lin_interp"
      ]
     },
     "metadata": {},
     "output_type": "display_data"
    }
   ],
   "source": [
    "\"\"\"\n",
    "A function that provides linear interpolation with constant extrapolation\n",
    "outside the bounds.\n",
    "\n",
    "    x : a linear grid of interpolation points\n",
    "    fx : the values of the function on the grid points\n",
    "\n",
    "\"\"\"\n",
    "function lin_interp(x, fx)\n",
    "    return linear_interpolation(x, fx, \n",
    "                extrapolation_bc = Interpolations.Flat())\n",
    "end"
   ]
  },
  {
   "cell_type": "code",
   "execution_count": 26,
   "metadata": {},
   "outputs": [
    {
     "data": {
      "text/plain": [
       "create_opt_savings_model"
      ]
     },
     "metadata": {},
     "output_type": "display_data"
    }
   ],
   "source": [
    "\"\"\"\n",
    "Create an instance of the model, stored as a namedtuple.\n",
    "\n",
    "\"\"\"\n",
    "function create_opt_savings_model(; β=0.9,      # Discount factor\n",
    "                                    γ=2.0,      # CRRA utility parameter\n",
    "                                    R=1.2,      # Gross rate of return\n",
    "                                    w_size=200, # Grid size for wealth\n",
    "                                    w_max=10)   # Upper bound for wealth\n",
    "    w_grid = LinRange(1e-8, w_max, w_size)      # linearly spaced elements between its start and stop, avoid 0 since u(0) is not defined\n",
    "    u(c) = c^(1 - γ) / (1 - γ)                  # CRRA\n",
    "    v_init = u.(w_grid)                         # Initial guess as utility value\n",
    "    return (; β, u, R, w_grid, v_init)\n",
    "end"
   ]
  },
  {
   "cell_type": "code",
   "execution_count": 27,
   "metadata": {},
   "outputs": [
    {
     "data": {
      "text/plain": [
       "T (generic function with 1 method)"
      ]
     },
     "metadata": {},
     "output_type": "display_data"
    }
   ],
   "source": [
    "\"\"\"\n",
    "The Bellman operator\n",
    "\n",
    "    (Tv)(w) = min_{0 ≤ c ≤ w} { u(c) + β v(R(w - c))}\n",
    "\n",
    "\"\"\"\n",
    "# for VFI\n",
    "function T(v, model)\n",
    "    (; β, u, R, w_grid) = model     # Unpacking a paritcular NamedTuple \"model\"\n",
    "\n",
    "    v_new = similar(v)              # Create a same-size array as initial guess\n",
    "    v = lin_interp(w_grid, v)       # Interpolation and extrapolation\n",
    "\n",
    "    for (i, w) in enumerate(w_grid)\n",
    "        result = maximize(c -> u(c) + β * v(R * (w - c)), 0.0, w)  # -> ???\n",
    "        v_new[i] = Optim.maximum(result)\n",
    "    end\n",
    "\n",
    "    return v_new\n",
    "end"
   ]
  },
  {
   "cell_type": "code",
   "execution_count": 28,
   "metadata": {},
   "outputs": [
    {
     "data": {
      "text/plain": [
       "get_greedy (generic function with 1 method)"
      ]
     },
     "metadata": {},
     "output_type": "display_data"
    }
   ],
   "source": [
    "\" Get a v-greedy policy \"\n",
    "# for optimistic policy iteration (OPI)\n",
    "\n",
    "function get_greedy(v, model)\n",
    "    (; β, u, R, w_grid) = model\n",
    "\n",
    "    σ = similar(v) \n",
    "    v = lin_interp(w_grid, v)\n",
    "\n",
    "    for (i, w) in enumerate(w_grid)\n",
    "        result = maximize(c -> u(c) + β * v(R * (w - c)), 0.0, w) \n",
    "        σ[i] = Optim.maximizer(result)   # maximizer here, that is, c\n",
    "    end\n",
    "\n",
    "    return σ\n",
    "end"
   ]
  },
  {
   "cell_type": "code",
   "execution_count": 29,
   "metadata": {},
   "outputs": [
    {
     "data": {
      "text/plain": [
       "vfi (generic function with 1 method)"
      ]
     },
     "metadata": {},
     "output_type": "display_data"
    }
   ],
   "source": [
    "# VFI\n",
    "\n",
    "function vfi(model;\n",
    "                tolerance=1e-6,    \n",
    "                max_iter=10_000,  \n",
    "                print_step=100)      \n",
    "\n",
    "k = 0\n",
    "error = tolerance + 1\n",
    "v = model.v_init\n",
    "\n",
    "while (error > tolerance) & (k <= max_iter)\n",
    "    v_new = T(v, model)\n",
    "    error = maximum(abs.(v_new - v))\n",
    "    if k % print_step == 0  # print when k is a factor of print_step\n",
    "        println(\"Completed iteration $k with error $error.\")\n",
    "    end\n",
    "    v = v_new\n",
    "    k += 1\n",
    "end\n",
    "\n",
    "if error <= tolerance\n",
    "    println(\"Terminated successfully in $k iterations.\")\n",
    "else\n",
    "    println(\"Warning: hit iteration bound.\")\n",
    "end\n",
    "\n",
    "σ = get_greedy(v, model) \n",
    "return σ, v\n",
    "end\n",
    "\n"
   ]
  },
  {
   "cell_type": "code",
   "execution_count": 30,
   "metadata": {},
   "outputs": [
    {
     "data": {
      "text/plain": [
       "T_σ"
      ]
     },
     "metadata": {},
     "output_type": "display_data"
    }
   ],
   "source": [
    "\"\"\"\n",
    "The policy operator\n",
    "\n",
    "    (T_σ v)(w) =  u(σ(w)) + β v[R(w - σ(w))]\n",
    "\n",
    "\"\"\"\n",
    "function T_σ(v, σ, model)\n",
    "    (; β, u, R, w_grid) = model\n",
    "\n",
    "    # Add your code here\n",
    "\n",
    "    v_new = similar(v)\n",
    "    v = lin_interp(w_grid, v)\n",
    "\n",
    "    for (i, w) in enumerate(w_grid)\n",
    "\n",
    "        # The lifetime value v_σ of policy σ is the unique v that solves\n",
    "        # v(w) = u(σ(w)) + βv(R(w-σ(w))\n",
    "\n",
    "        v_new[i] = u(σ[i]) + β * v(R * (w - σ[i]))\n",
    "    end\n",
    "\n",
    "    return v_new\n",
    "\n",
    "end\n"
   ]
  },
  {
   "cell_type": "code",
   "execution_count": 31,
   "metadata": {},
   "outputs": [
    {
     "data": {
      "text/plain": [
       "get_value"
      ]
     },
     "metadata": {},
     "output_type": "display_data"
    }
   ],
   "source": [
    "\"Approximate lifetime value of policy σ.\"\n",
    "function get_value(v_init, σ, m, model) \n",
    "    \n",
    "    # m is the number of T_σ operations or the number of iterations\n",
    "\n",
    "    # Compute and return T_σ^m v_init\n",
    "\n",
    "    for i in 1:m\n",
    "        result = T_σ(v_init, σ, model)\n",
    "        v_init = result\n",
    "    end\n",
    "\n",
    "    return v_init\n",
    "\n",
    "end"
   ]
  },
  {
   "cell_type": "code",
   "execution_count": 32,
   "metadata": {},
   "outputs": [
    {
     "data": {
      "text/plain": [
       "opi (generic function with 1 method)"
      ]
     },
     "metadata": {},
     "output_type": "display_data"
    }
   ],
   "source": [
    "\"Optimistic policy iteration routine.\"\n",
    "# Follow the algorithm of OPI here\n",
    "\n",
    "function opi(model; \n",
    "              tolerance=1e-6, \n",
    "              max_iter=1_000,\n",
    "              m=20,\n",
    "              print_step=100,\n",
    "              verbose = true)  # use variable 'verbose' to avoid too much printings later\n",
    "    v = model.v_init\n",
    "\n",
    "    # Put your code here\n",
    "\n",
    "    k = 0\n",
    "    error = tolerance + 1\n",
    "\n",
    "    while (error > tolerance) & (k <= max_iter)\n",
    "\n",
    "        σ = get_greedy(v, model)  # local σ\n",
    "        v_new = get_value(v, σ, m, model) \n",
    "\n",
    "        error = maximum(abs.(v_new - v))\n",
    "\n",
    "        if (k % print_step == 0) & (verbose == true) \n",
    "            println(\"Completed iteration $k with error $error.\")\n",
    "        end\n",
    "        v = v_new\n",
    "        k += 1\n",
    "        \n",
    "    end\n",
    "    \n",
    "    if verbose == true\n",
    "        if error <= tolerance\n",
    "            println(\"Terminated successfully in $k iterations.\")\n",
    "        else\n",
    "            println(\"Warning: hit iteration bound.\")\n",
    "        end\n",
    "    end\n",
    "\n",
    "    σ = get_greedy(v, model) # global σ\n",
    "    \n",
    "    return σ, v\n",
    "\n",
    "end\n"
   ]
  },
  {
   "cell_type": "code",
   "execution_count": 33,
   "metadata": {},
   "outputs": [
    {
     "data": {
      "text/plain": [
       "12"
      ]
     },
     "metadata": {},
     "output_type": "display_data"
    }
   ],
   "source": [
    "using PyPlot\n",
    "using LaTeXStrings\n",
    "fontsize=12"
   ]
  },
  {
   "cell_type": "code",
   "execution_count": 34,
   "metadata": {},
   "outputs": [
    {
     "data": {
      "text/plain": [
       "(β = 0.9, u = u, R = 1.2, w_grid = LinRange{Float64}(1.0e-8, 10.0, 200), v_init = [-1.0e8, -19.899996059800777, -9.949999019925096, -6.633332899955585, -4.974999757468762, -3.979999845576006, -3.3166665599805594, -2.842857064881635, -2.4874999406109386, -2.2111110644320995  …  -0.10473684210030194, -0.10418848167102875, -0.10364583332955458, -0.10310880828694997, -0.1025773195849851, -0.10205128204918869, -0.1015306122433439, -0.1010152284253704, -0.1005050505045429, -0.1])"
      ]
     },
     "metadata": {},
     "output_type": "display_data"
    }
   ],
   "source": [
    "model = create_opt_savings_model()    # create an instance\n",
    "(; β, u, R, w_grid, v_init) = model; \n",
    "model"
   ]
  },
  {
   "cell_type": "code",
   "execution_count": 35,
   "metadata": {},
   "outputs": [
    {
     "name": "stdout",
     "output_type": "stream",
     "text": [
      "Solving via VFI. \n",
      "\n",
      "\n"
     ]
    },
    {
     "name": "stdout",
     "output_type": "stream",
     "text": [
      "Completed iteration 0 with error 9.000000634421515e7.\n",
      "Completed iteration 100 with error 2390.5260684490204.\n",
      "Completed iteration 200 with error 0.06349575519561768.\n",
      "Completed iteration 300 with error 1.6689300537109375e-6.\n",
      "Terminated successfully in 306 iterations.\n",
      "  0.241078 seconds (396.81 k allocations: 25.925 MiB, 72.01% compilation time)\n",
      "elapsed time (ns):  241078030\n",
      "gc time (ns):       0\n",
      "bytes allocated:    27184843\n",
      "pool allocs:        396584\n",
      "non-pool GC allocs: 228\n",
      "minor collections:  0\n",
      "full collections:   0\n"
     ]
    }
   ],
   "source": [
    "println(\"Solving via VFI. \\n\\n\")\n",
    "@timev σ_star, v_star = vfi(model);"
   ]
  },
  {
   "cell_type": "code",
   "execution_count": 36,
   "metadata": {},
   "outputs": [
    {
     "name": "stdout",
     "output_type": "stream",
     "text": [
      "\n",
      "\n",
      "Solving via HPI.\n",
      "\n",
      "\n"
     ]
    },
    {
     "name": "stdout",
     "output_type": "stream",
     "text": [
      "Completed iteration 0 with error 7.905810665975548e8.\n",
      "Terminated successfully in 18 iterations.\n",
      "  0.071536 seconds (80.13 k allocations: 5.415 MiB, 90.18% compilation time)\n",
      "elapsed time (ns):  71536279\n",
      "gc time (ns):       0\n",
      "bytes allocated:    5678463\n",
      "pool allocs:        80060\n",
      "non-pool GC allocs: 67\n",
      "minor collections:  0\n",
      "full collections:   0\n"
     ]
    }
   ],
   "source": [
    "# Uncomment next two lines and get it working\n",
    "\n",
    "println(\"\\n\\nSolving via HPI.\\n\\n\")\n",
    "@timev σ_star_opi, v_star_hpi = opi(model);"
   ]
  },
  {
   "cell_type": "code",
   "execution_count": 37,
   "metadata": {},
   "outputs": [
    {
     "data": {
      "image/png": "[encoded data removed]",
      "text/plain": [
       "Figure(PyObject <Figure size 500x400 with 1 Axes>)"
      ]
     },
     "metadata": {},
     "output_type": "display_data"
    }
   ],
   "source": [
    "# Plot both policies and check that they are close to each other\n",
    "\n",
    "fig, ax = plt.subplots(figsize=(5,4))\n",
    "\n",
    "ax.plot(w_grid, σ_star, label = \"VFI\")\n",
    "ax.plot(w_grid, σ_star_opi, label = \"OPI\")\n",
    "\n",
    "title(\"Policy Functions\")\n",
    "\n",
    "ax.legend()\n",
    "gcf()"
   ]
  },
  {
   "cell_type": "code",
   "execution_count": 38,
   "metadata": {},
   "outputs": [
    {
     "name": "stdout",
     "output_type": "stream",
     "text": [
      "Since VFI does not depend on the value of m, the runtime for this iteration process will be constant\n"
     ]
    }
   ],
   "source": [
    "# Record the runtime for (a) VFI and (b) OPI at various choices of m\n",
    "# Plot them to illustrate how OPI compares to VFI \n",
    "\n",
    "println(\"Since VFI does not depend on the value of m, the runtime for this iteration process will be constant\")"
   ]
  },
  {
   "cell_type": "code",
   "execution_count": 39,
   "metadata": {},
   "outputs": [
    {
     "data": {
      "text/plain": [
       "runtime_opi (generic function with 1 method)"
      ]
     },
     "metadata": {},
     "output_type": "display_data"
    }
   ],
   "source": [
    "# Define function to get OPI runtime for different m's\n",
    "\n",
    "function runtime_opi(model; m_grid = 1:20:1000)\n",
    "    opi_time = zeros(size(m_grid));\n",
    "    for (i,m) in enumerate(m_grid)\n",
    "        # opi_time[i] = @elapsed opi(model; m=m, print_step = 1000);\n",
    "        opi_time[i] = @elapsed opi(model; m=m, verbose = false);\n",
    "    end\n",
    "    return opi_time, m_grid\n",
    "end"
   ]
  },
  {
   "cell_type": "code",
   "execution_count": 40,
   "metadata": {},
   "outputs": [],
   "source": [
    "opi_time, m_grid = runtime_opi(model);"
   ]
  },
  {
   "cell_type": "code",
   "execution_count": 41,
   "metadata": {},
   "outputs": [
    {
     "name": "stdout",
     "output_type": "stream",
     "text": [
      "Completed iteration 0 with error 9.000000634421515e7.\n",
      "Completed iteration 100 with error 2390.5260684490204.\n",
      "Completed iteration 200 with error 0.06349575519561768.\n"
     ]
    },
    {
     "name": "stdout",
     "output_type": "stream",
     "text": [
      "Completed iteration 300 with error 1.6689300537109375e-6.\n",
      "Terminated successfully in 306 iterations.\n"
     ]
    },
    {
     "data": {
      "text/plain": [
       "50-element Vector{Float64}:\n",
       " 0.082040486\n",
       " 0.082040486\n",
       " 0.082040486\n",
       " 0.082040486\n",
       " 0.082040486\n",
       " 0.082040486\n",
       " 0.082040486\n",
       " 0.082040486\n",
       " 0.082040486\n",
       " 0.082040486\n",
       " ⋮\n",
       " 0.082040486\n",
       " 0.082040486\n",
       " 0.082040486\n",
       " 0.082040486\n",
       " 0.082040486\n",
       " 0.082040486\n",
       " 0.082040486\n",
       " 0.082040486\n",
       " 0.082040486"
      ]
     },
     "metadata": {},
     "output_type": "display_data"
    }
   ],
   "source": [
    "# VFI runtime:\n",
    "\n",
    "vfi_time = @elapsed σ_star, v_star = vfi(model);\n",
    "vfi_time_compiled = ones(size(m_grid)) * vfi_time"
   ]
  },
  {
   "cell_type": "code",
   "execution_count": 42,
   "metadata": {},
   "outputs": [],
   "source": [
    "# Another way to get VFI time:\n",
    "\n",
    "# vfi_time = @elapsed σ_star, v_star = vfi(model);\n",
    "# vfi_time_compiled = fill(vfi_time, size(m_grid));"
   ]
  },
  {
   "cell_type": "code",
   "execution_count": 43,
   "metadata": {},
   "outputs": [
    {
     "data": {
      "image/png": "[encoded data removed]",
      "text/plain": [
       "Figure(PyObject <Figure size 500x400 with 1 Axes>)"
      ]
     },
     "metadata": {},
     "output_type": "display_data"
    }
   ],
   "source": [
    "fig, ax = plt.subplots(figsize=(5,4))\n",
    "ax.plot(m_grid, vfi_time_compiled, label=\"VFI\")\n",
    "ax.plot(m_grid, opi_time, label=\"OPI\")\n",
    "title(\"Time Elapsed per m for OPI\")\n",
    "\n",
    "ax.set_xlabel(\"m\")\n",
    "ax.set_ylabel(\"Runtime\")\n",
    "\n",
    "ax.legend()\n",
    "gcf()"
   ]
  }
 ],
 "metadata": {
  "kernelspec": {
   "display_name": "Julia 1.8.5",
   "language": "julia",
   "name": "julia-1.8"
  },
  "language_info": {
   "file_extension": ".jl",
   "mimetype": "application/julia",
   "name": "julia",
   "version": "1.8.5"
  },
  "orig_nbformat": 4
 },
 "nbformat": 4,
 "nbformat_minor": 2
}
