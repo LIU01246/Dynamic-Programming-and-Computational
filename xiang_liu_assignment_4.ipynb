{
  "cells": [
    {
      "cell_type": "markdown",
      "metadata": {
        "id": "bnaI6GCG7tr_"
      },
      "source": [
        "## ECON 8185 - Homework Assignment 4\n",
        "\n",
        "#### Xiang Liu\n",
        "#### Email: liu01246@umn.edu\n",
        "#### ID: 5596987\n",
        "#### I gained a lot of help from Yutong Zhong and Yuta Maeda."
      ]
    },
    {
      "cell_type": "markdown",
      "source": [
        "I use Colab to run this code. First, I just use the original \"model.py\", \"\"dp_algos.py\", and \"plot_code.py\" directly. At the end of this notebook, I try to rewrite those files (not necessary)."
      ],
      "metadata": {
        "id": "fygNcjzL9Bbg"
      }
    },
    {
      "cell_type": "code",
      "execution_count": 1,
      "metadata": {
        "id": "D1CaPo9x7tsA"
      },
      "outputs": [],
      "source": [
        "from model import *\n",
        "from dp_algos import *\n",
        "from plot_code import *\n",
        "\n",
        "import jax\n",
        "import jax.numpy as jnp"
      ]
    },
    {
      "cell_type": "code",
      "execution_count": 2,
      "metadata": {
        "id": "FcDwmjHX7tsC"
      },
      "outputs": [],
      "source": [
        "# Use 64 bit floats with JAX in order to increase precision.\n",
        "\n",
        "jax.config.update(\"jax_enable_x64\", True)"
      ]
    },
    {
      "cell_type": "code",
      "source": [
        "def T(v, model, v_greedy=False):\n",
        "\n",
        "## The Bellman operator or v-greedy function.\n",
        "\n",
        "    K, c, κ, p = model.params\n",
        "    r, R, y_vals, z_vals, Q = model.arrays\n",
        "    n_y, n_z = len(y_vals), len(z_vals)\n",
        "\n",
        "\n",
        "    r = jnp.reshape(r, (n_y, 1, n_y))           # r[y, a] --> r[y, z, a]\n",
        "    β = jnp.reshape(z_vals, (1, n_z, 1))        # β[z] --> β[y, z, a]\n",
        "\n",
        "    # Calculate continuation rewards at all combinations of (y, z, a, yp, zp)\n",
        "\n",
        "    v = jnp.reshape(v, (1, 1, 1, n_y, n_z))     # v[yp, zp] --> v[y, z, a, yp, zp]\n",
        "    R = jnp.reshape(R, (n_y, 1, n_y, n_y, 1))   # R[y, a, yp] --> R[y, z, a, yp, zp]\n",
        "    Q = jnp.reshape(Q, (1, n_z, 1, 1, n_z))     # Q[z, zp] --> Q[y, z, a, yp, zp]\n",
        "\n",
        "    # Sum over yp, zp\n",
        "    Ev = jnp.sum(v * R * Q, axis = [3,4])       # Ev[y, z, a]\n",
        "\n",
        "    new_v = r + β * Ev\n",
        "\n",
        "    value = r + β * Ev\n",
        "\n",
        "    # Mask the invalid indices (a >= K + 1 - y invalid)\n",
        "\n",
        "    a_mask = y_vals[None, :] < K - y_vals[:, None] + 1\n",
        "    a_mask = jnp.reshape(a_mask, (n_y, 1, n_y))\n",
        "\n",
        "    value = jnp.where(a_mask, value, -np.inf)\n",
        "\n",
        "    new_v = jnp.max(value, axis = 2)\n",
        "    σ_star = jnp.argmax(value, axis = 2)\n",
        "\n",
        "    if v_greedy:\n",
        "      return σ_star\n",
        "    else:\n",
        "      return new_v\n"
      ],
      "metadata": {
        "id": "22ptCW8qGfSU"
      },
      "execution_count": 3,
      "outputs": []
    },
    {
      "cell_type": "code",
      "execution_count": 4,
      "metadata": {
        "id": "R948hleb7tsD"
      },
      "outputs": [],
      "source": [
        "def T_σ(v, σ, model):\n",
        "\n",
        "    \"The policy operator.\"\n",
        "\n",
        "    r, R, y_vals, z_vals, Q = model.arrays\n",
        "    n_y, n_z = len(y_vals), len(z_vals)\n",
        "\n",
        "    # expand the y and z grids, n = n_y x n_z\n",
        "    y_grid = jnp.repeat(jnp.arange(n_y), n_z)\n",
        "    z_grid = jnp.tile(jnp.arange(n_z), n_y)\n",
        "\n",
        "    # Calculate continuation rewards at all combinations of (y, z, a, yp, zp)\n",
        "\n",
        "    β = z_vals[z_grid]\n",
        "    a = σ[y_grid, z_grid]\n",
        "    v = jnp.reshape(v, (1, n_y, n_z)) # v[yp, zp] --> v[y\\z, yp, zp]\n",
        "\n",
        "    # Sum over yp, zp\n",
        "    Ev = jnp.sum(v * R[y_grid,  a, :, None] * Q[z_grid, None, :], axis = [1,2])\n",
        "\n",
        "    new_v = r[y_grid, a] +  β * Ev\n",
        "    new_v = jnp.reshape(new_v, (n_y, n_z))\n",
        "    return new_v\n"
      ]
    },
    {
      "cell_type": "code",
      "source": [
        "def get_value(σ, model):\n",
        "\n",
        "    \"Get the value v_σ of policy σ.\"\n",
        "\n",
        "    K, c, κ, p = model.params\n",
        "    r, R, y_vals, z_vals, Q = model.arrays\n",
        "    n_y, n_z = len(y_vals), len(z_vals)\n",
        "    n = n_z * n_y\n",
        "\n",
        "    # Expand the y and z grids, n = n_y x n_z\n",
        "    y_grid = jnp.repeat(jnp.arange(n_y), n_z)\n",
        "    z_grid = jnp.tile(jnp.arange(n_z), n_y)\n",
        "    a = σ[y_grid, z_grid]\n",
        "    β = z_vals[z_grid]\n",
        "\n",
        "    # Build L_σ and r_σ as multi-index arrays\n",
        "    β = jnp.reshape(β, (n, 1, 1))\n",
        "    L_σ = β * R[y_grid, a, :, None] * Q[z_grid, None, :]\n",
        "\n",
        "    L_σ = jnp.reshape(L_σ, (n, n))\n",
        "    r_σ = r[y_grid, a]\n",
        "    I = jnp.eye(n)                       # An identity matrix\n",
        "    v_σ = jnp.linalg.solve(I - L_σ, r_σ) # solve v_σ = r_σ(I - L_σ)^{-1}\n",
        "\n",
        "    # Return as multi-index array\n",
        "    return jnp.reshape(v_σ, (n_y, n_z))\n"
      ],
      "metadata": {
        "id": "rSqe4pYiIF1X"
      },
      "execution_count": 5,
      "outputs": []
    },
    {
      "cell_type": "code",
      "source": [
        "## Custom solvers\n",
        "\n",
        "def solve_model_jax(model, algorithm=\"OPI\", **kwargs):\n",
        "    \"\"\"\n",
        "    General purpose solver.\n",
        "\n",
        "    algorithm : OPI, VFI or HPI\n",
        "\n",
        "    \"\"\"\n",
        "\n",
        "    # Set up\n",
        "    n_y, n_z = model.sizes\n",
        "    v_init = jnp.zeros((n_y, n_z))\n",
        "\n",
        "    # Solve\n",
        "    print(f\"Solving model using {algorithm}.\")\n",
        "    match algorithm:\n",
        "        case \"OPI\":\n",
        "            solver = optimistic_policy_iteration\n",
        "            args = (v_init,\n",
        "                lambda v, σ: T_σ(v, σ, model),\n",
        "                lambda v: T(v, model, v_greedy = True))\n",
        "        case \"HPI\":\n",
        "            solver = howard_policy_iteration\n",
        "            args = (v_init,\n",
        "                lambda σ: get_value(σ, model),\n",
        "                lambda v: T(v, model, v_greedy = True))\n",
        "        case \"VFI\":\n",
        "            solver = value_function_iteration\n",
        "            args = (v_init,\n",
        "                lambda v: T(v, model, v_greedy = False),\n",
        "                lambda v: T(v, model, v_greedy = True))\n",
        "        case _:\n",
        "            raise ValueError(\"Algorithm must be in {OPI, VFI, HPI}\")\n",
        "\n",
        "    qe.tic()\n",
        "    v_star, σ_star = solver(*args, **kwargs, usejax = True)\n",
        "    run_time = qe.toc()\n",
        "    print(f\"Solved model using {algorithm} in {run_time:.5f} seconds.\")\n",
        "\n",
        "    return v_star, σ_star"
      ],
      "metadata": {
        "id": "_5aI75jgH28b"
      },
      "execution_count": 6,
      "outputs": []
    },
    {
      "cell_type": "code",
      "execution_count": 7,
      "metadata": {
        "id": "1fYDNZ-S7tsF"
      },
      "outputs": [],
      "source": [
        "def test_timing_jax(model,\n",
        "                      m_vals=range(1, 100, 20),\n",
        "                      figname=\"jax_timing.pdf\",\n",
        "                      savefig=False):\n",
        "    \"\"\"\n",
        "    Plot relative timing of different algorithms.\n",
        "\n",
        "    \"\"\"\n",
        "\n",
        "    qe.tic()\n",
        "    _, σ_pi = solve_model_jax(model, algorithm=\"HPI\")\n",
        "    hpi_time = qe.toc()\n",
        "\n",
        "    qe.tic()\n",
        "    _, σ_vfi = solve_model_jax(model, algorithm=\"VFI\")\n",
        "    vfi_time = qe.toc()\n",
        "\n",
        "    error = jnp.max(jnp.abs(σ_vfi - σ_pi))\n",
        "    if error:\n",
        "        print(\"Warning: VFI policy deviated with max error {error}.\")\n",
        "\n",
        "    opi_times = []\n",
        "    for m in m_vals:\n",
        "        qe.tic()\n",
        "        _, σ_opi = solve_model_jax(model, algorithm=\"OPI\", m=m)\n",
        "        opi_times.append(qe.toc())\n",
        "\n",
        "        error = jnp.max(jnp.abs(σ_opi - σ_pi))\n",
        "        if error:\n",
        "            print(\"Warning: OPI policy deviated with max error {error}.\")\n",
        "\n",
        "    plot_timing(hpi_time,\n",
        "                vfi_time,\n",
        "                opi_times,\n",
        "                m_vals,\n",
        "                figname=figname,\n",
        "                savefig=False)\n",
        "\n",
        "    return hpi_time, vfi_time, opi_times"
      ]
    },
    {
      "cell_type": "code",
      "source": [
        "# Simulations and plots\n",
        "T = jax.jit(T, static_argnums=(2, ))\n",
        "T_σ = jax.jit(T_σ, static_argnums=None)\n",
        "get_value = jax.jit(get_value, static_argnums=None)\n",
        "\n",
        "model = create_sdd_inventory_model()"
      ],
      "metadata": {
        "id": "qi4pNilhDn_O",
        "colab": {
          "base_uri": "https://localhost:8080/"
        },
        "outputId": "b8d61772-89e6-4c66-c580-000088eeeae6"
      },
      "execution_count": 8,
      "outputs": [
        {
          "output_type": "stream",
          "name": "stdout",
          "text": [
            "Building model with ρ(L) = 0.9751716609507874\n"
          ]
        }
      ]
    },
    {
      "cell_type": "code",
      "source": [
        "# Solve by VFI\n",
        "\n",
        "v_star, σ_star = solve_model_jax(model, algorithm=\"VFI\")"
      ],
      "metadata": {
        "id": "DVzJN8bSDqpX",
        "colab": {
          "base_uri": "https://localhost:8080/"
        },
        "outputId": "9b63a3e7-99f0-4cec-8383-547fff3654d3"
      },
      "execution_count": 9,
      "outputs": [
        {
          "output_type": "stream",
          "name": "stdout",
          "text": [
            "Solving model using VFI.\n",
            "Completed iteration 25 with error 0.561291818742589.\n",
            "Completed iteration 50 with error 0.3776031152708832.\n",
            "Completed iteration 75 with error 0.22781271574230288.\n",
            "Completed iteration 100 with error 0.12966912474841052.\n",
            "Completed iteration 125 with error 0.06841133244552822.\n",
            "Completed iteration 150 with error 0.03108826968598777.\n",
            "Completed iteration 175 with error 0.014717604780912552.\n",
            "Completed iteration 200 with error 0.007728671529960707.\n",
            "Completed iteration 225 with error 0.0041302272069572155.\n",
            "Completed iteration 250 with error 0.002206459813073991.\n",
            "Completed iteration 275 with error 0.0011779116780843424.\n",
            "Completed iteration 300 with error 0.0006285733275817051.\n",
            "Completed iteration 325 with error 0.0003353535262249352.\n",
            "Completed iteration 350 with error 0.00017889424245964847.\n",
            "Completed iteration 375 with error 9.542456400879473e-05.\n",
            "Completed iteration 400 with error 5.089879924469187e-05.\n",
            "Completed iteration 425 with error 2.7148494247342114e-05.\n",
            "Completed iteration 450 with error 1.4480344070477713e-05.\n",
            "Completed iteration 475 with error 7.723411918902912e-06.\n",
            "Completed iteration 500 with error 4.119437804206427e-06.\n",
            "Completed iteration 525 with error 2.197181004248705e-06.\n",
            "Completed iteration 550 with error 1.1719072361415783e-06.\n",
            "Terminated successfully in 558 iterations.\n",
            "TOC: Elapsed: 0:00:13.53\n",
            "Solved model using VFI in 13.53123 seconds.\n"
          ]
        }
      ]
    },
    {
      "cell_type": "code",
      "source": [
        "\n",
        "# Solve by HPI\n",
        "\n",
        "v_star_hpi, σ_star_hpi = solve_model_jax(model, algorithm=\"HPI\")"
      ],
      "metadata": {
        "id": "7exq5UQLDvi-",
        "colab": {
          "base_uri": "https://localhost:8080/"
        },
        "outputId": "3865033f-e6c3-4c22-f181-bbe4d367798d"
      },
      "execution_count": 10,
      "outputs": [
        {
          "output_type": "stream",
          "name": "stdout",
          "text": [
            "Solving model using HPI.\n",
            "Concluded loop 1 with error 66.\n",
            "Concluded loop 2 with error 60.\n",
            "Concluded loop 3 with error 32.\n",
            "Concluded loop 4 with error 32.\n",
            "Concluded loop 5 with error 24.\n",
            "Concluded loop 6 with error 24.\n",
            "Concluded loop 7 with error 24.\n",
            "Concluded loop 8 with error 0.\n",
            "TOC: Elapsed: 0:00:1.48\n",
            "Solved model using HPI in 1.48458 seconds.\n"
          ]
        }
      ]
    },
    {
      "cell_type": "code",
      "source": [
        "# Solve by OPI\n",
        "\n",
        "v_star_opi, σ_star_opi = solve_model_jax(model, algorithm=\"OPI\")"
      ],
      "metadata": {
        "id": "8zIDn8AVD0e0",
        "colab": {
          "base_uri": "https://localhost:8080/"
        },
        "outputId": "d117e1fc-6941-4118-e270-32d97db75f35"
      },
      "execution_count": 11,
      "outputs": [
        {
          "output_type": "stream",
          "name": "stdout",
          "text": [
            "Solving model using OPI.\n",
            "Completed iteration 10 with error 0.003989144284915369.\n",
            "TOC: Elapsed: 0:00:1.70\n",
            "Solved model using OPI in 1.70295 seconds.\n"
          ]
        }
      ]
    },
    {
      "cell_type": "code",
      "source": [
        "# Plot\n",
        "\n",
        "plot_ts(model, σ_star_hpi, figname=\"jax_ts.pdf\", savefig=False)"
      ],
      "metadata": {
        "id": "bM83TPn5D3xq",
        "colab": {
          "base_uri": "https://localhost:8080/",
          "height": 436
        },
        "outputId": "0edd3b3f-a0bb-422b-f04b-a84290e2a486"
      },
      "execution_count": 12,
      "outputs": [
        {
          "output_type": "display_data",
          "data": {
            "text/plain": [
              "<Figure size 900x550 with 2 Axes>"
            ],
            "image/png": "[encoded data removed]"
          },
          "metadata": {}
        }
      ]
    },
    {
      "cell_type": "code",
      "execution_count": 13,
      "metadata": {
        "id": "oEhoDfIU7tsH",
        "colab": {
          "base_uri": "https://localhost:8080/",
          "height": 1000
        },
        "outputId": "0a8bff3f-e2b9-4281-9519-7d8f09f40cba"
      },
      "outputs": [
        {
          "output_type": "stream",
          "name": "stdout",
          "text": [
            "Solving model using HPI.\n",
            "Concluded loop 1 with error 66.\n",
            "Concluded loop 2 with error 60.\n",
            "Concluded loop 3 with error 32.\n",
            "Concluded loop 4 with error 32.\n",
            "Concluded loop 5 with error 24.\n",
            "Concluded loop 6 with error 24.\n",
            "Concluded loop 7 with error 24.\n",
            "Concluded loop 8 with error 0.\n",
            "TOC: Elapsed: 0:00:1.05\n",
            "Solved model using HPI in 1.05450 seconds.\n",
            "TOC: Elapsed: 0:00:1.05\n",
            "Solving model using VFI.\n",
            "Completed iteration 25 with error 0.561291818742589.\n",
            "Completed iteration 50 with error 0.3776031152708832.\n",
            "Completed iteration 75 with error 0.22781271574230288.\n",
            "Completed iteration 100 with error 0.12966912474841052.\n",
            "Completed iteration 125 with error 0.06841133244552822.\n",
            "Completed iteration 150 with error 0.03108826968598777.\n",
            "Completed iteration 175 with error 0.014717604780912552.\n",
            "Completed iteration 200 with error 0.007728671529960707.\n",
            "Completed iteration 225 with error 0.0041302272069572155.\n",
            "Completed iteration 250 with error 0.002206459813073991.\n",
            "Completed iteration 275 with error 0.0011779116780843424.\n",
            "Completed iteration 300 with error 0.0006285733275817051.\n",
            "Completed iteration 325 with error 0.0003353535262249352.\n",
            "Completed iteration 350 with error 0.00017889424245964847.\n",
            "Completed iteration 375 with error 9.542456400879473e-05.\n",
            "Completed iteration 400 with error 5.089879924469187e-05.\n",
            "Completed iteration 425 with error 2.7148494247342114e-05.\n",
            "Completed iteration 450 with error 1.4480344070477713e-05.\n",
            "Completed iteration 475 with error 7.723411918902912e-06.\n",
            "Completed iteration 500 with error 4.119437804206427e-06.\n",
            "Completed iteration 525 with error 2.197181004248705e-06.\n",
            "Completed iteration 550 with error 1.1719072361415783e-06.\n",
            "Terminated successfully in 558 iterations.\n",
            "TOC: Elapsed: 0:00:12.71\n",
            "Solved model using VFI in 12.71804 seconds.\n",
            "TOC: Elapsed: 0:00:12.71\n",
            "Solving model using OPI.\n",
            "Completed iteration 10 with error 0.6480358762326102.\n",
            "Completed iteration 20 with error 0.5949305169605896.\n",
            "Completed iteration 30 with error 0.5251459484602243.\n",
            "Completed iteration 40 with error 0.45024112605453226.\n",
            "Completed iteration 50 with error 0.3776031152708832.\n",
            "Completed iteration 60 with error 0.311392522632449.\n",
            "Completed iteration 70 with error 0.25348563920216094.\n",
            "Completed iteration 80 with error 0.20428999885410803.\n",
            "Completed iteration 90 with error 0.1633451023325847.\n",
            "Completed iteration 100 with error 0.12966912474841052.\n",
            "Completed iteration 110 with error 0.10191243757392243.\n",
            "Completed iteration 120 with error 0.07865530805722898.\n",
            "Completed iteration 130 with error 0.05904856720101748.\n",
            "Completed iteration 140 with error 0.043112055223730295.\n",
            "Completed iteration 150 with error 0.03108826968598777.\n",
            "Completed iteration 160 with error 0.022647420777794025.\n",
            "Completed iteration 170 with error 0.01689273636191757.\n",
            "Completed iteration 180 with error 0.01287975724365964.\n",
            "Completed iteration 190 with error 0.009949277899586662.\n",
            "Completed iteration 200 with error 0.007728671529960707.\n",
            "Completed iteration 210 with error 0.006014172995399747.\n",
            "Completed iteration 220 with error 0.004681465137345242.\n",
            "Completed iteration 230 with error 0.0036437639326649673.\n",
            "Completed iteration 240 with error 0.0028356519919228163.\n",
            "Completed iteration 250 with error 0.002206459813073991.\n",
            "Completed iteration 260 with error 0.001716684887533404.\n",
            "Completed iteration 270 with error 0.0013355082948578456.\n",
            "Completed iteration 280 with error 0.001038896093632502.\n",
            "Completed iteration 290 with error 0.0008081157057162613.\n",
            "Completed iteration 300 with error 0.0006285733275817051.\n",
            "Completed iteration 310 with error 0.0004889036860262763.\n",
            "Completed iteration 320 with error 0.0003802583785841307.\n",
            "Completed iteration 330 with error 0.00029575008841931094.\n",
            "Completed iteration 340 with error 0.00023001891724305779.\n",
            "Completed iteration 350 with error 0.00017889424245964847.\n",
            "Completed iteration 360 with error 0.0001391312026015612.\n",
            "Completed iteration 370 with error 0.00010820542954803614.\n",
            "Completed iteration 380 with error 8.415320764498802e-05.\n",
            "Completed iteration 390 with error 6.544703998656587e-05.\n",
            "Completed iteration 400 with error 5.089879924469187e-05.\n",
            "Completed iteration 410 with error 3.958436084872119e-05.\n",
            "Completed iteration 420 with error 3.078496104791384e-05.\n",
            "Completed iteration 430 with error 2.394157341001346e-05.\n",
            "Completed iteration 440 with error 1.861941635183939e-05.\n",
            "Completed iteration 450 with error 1.4480344070477713e-05.\n",
            "Completed iteration 460 with error 1.1261370822523986e-05.\n",
            "Completed iteration 470 with error 8.757966703853981e-06.\n",
            "Completed iteration 480 with error 6.81106531885689e-06.\n",
            "Completed iteration 490 with error 5.296958654810169e-06.\n",
            "Completed iteration 500 with error 4.119437804206427e-06.\n",
            "Completed iteration 510 with error 3.2036803787605095e-06.\n",
            "Completed iteration 520 with error 2.491496637446744e-06.\n",
            "Completed iteration 530 with error 1.9376322057951256e-06.\n",
            "Completed iteration 540 with error 1.506892658653669e-06.\n",
            "Completed iteration 550 with error 1.1719072361415783e-06.\n",
            "TOC: Elapsed: 0:00:13.89\n",
            "Solved model using OPI in 13.89381 seconds.\n",
            "TOC: Elapsed: 0:00:13.89\n",
            "Solving model using OPI.\n",
            "Completed iteration 10 with error 0.23575181290819813.\n",
            "Completed iteration 20 with error 0.0012292555287132245.\n",
            "Completed iteration 30 with error 6.262373965171264e-06.\n",
            "TOC: Elapsed: 0:00:1.59\n",
            "Solved model using OPI in 1.59086 seconds.\n",
            "TOC: Elapsed: 0:00:1.59\n",
            "Solving model using OPI.\n",
            "Completed iteration 10 with error 0.02117210695652716.\n",
            "Completed iteration 20 with error 6.989141141389155e-07.\n",
            "TOC: Elapsed: 0:00:1.33\n",
            "Solved model using OPI in 1.33972 seconds.\n",
            "TOC: Elapsed: 0:00:1.33\n",
            "Solving model using OPI.\n",
            "Completed iteration 10 with error 0.002919326747978346.\n",
            "TOC: Elapsed: 0:00:1.43\n",
            "Solved model using OPI in 1.43801 seconds.\n",
            "TOC: Elapsed: 0:00:1.43\n",
            "Solving model using OPI.\n",
            "Completed iteration 10 with error 0.0003544690333399103.\n",
            "TOC: Elapsed: 0:00:1.70\n",
            "Solved model using OPI in 1.70998 seconds.\n",
            "TOC: Elapsed: 0:00:1.71\n"
          ]
        },
        {
          "output_type": "display_data",
          "data": {
            "text/plain": [
              "<Figure size 900x520 with 1 Axes>"
            ],
            "image/png": "[encoded data removed]"
          },
          "metadata": {}
        }
      ],
      "source": [
        "# Test timing\n",
        "\n",
        "hpi_time, vfi_time, opi_times = test_timing_jax(model)"
      ]
    },
    {
      "cell_type": "markdown",
      "source": [
        "Model:"
      ],
      "metadata": {
        "id": "Od6UhUN5JdJ7"
      }
    },
    {
      "cell_type": "code",
      "source": [
        "# def f(y, a, d):\n",
        "#     # \" Inventory update rule. \"\n",
        "#     return jnp.maximum(y - d, 0) + a\n",
        "\n",
        "# # NamedTuple to hold model parameters\n",
        "# Params = namedtuple(\n",
        "#          \"Params\", (\"K\", \"c\", \"κ\", \"p\"))\n",
        "\n",
        "\n",
        "# def build_R(params, y_vals, d_vals, ϕ_vals):\n",
        "#     \" Build the R array using loops. \"\n",
        "#     K, c, κ, p = params\n",
        "#     n_y = K + 1\n",
        "#     R = np.zeros((n_y, n_y, n_y))\n",
        "#     for y in y_vals:\n",
        "#         for yp in y_vals:\n",
        "#             for a in range(n_y - y):\n",
        "#                 hits = f(y, a, d_vals) == yp\n",
        "#                 R[y, a, yp] = np.sum(hits * ϕ_vals)\n",
        "#     return R\n",
        "\n",
        "# def build_R_vectorized(params, y_vals, d_vals, ϕ_vals):\n",
        "#     K, c, κ, p = params\n",
        "#     n_y = K + 1\n",
        "#     n_d = len(d_vals)\n",
        "#     # Create R[y, a, yp, d] and then sum out last dimension\n",
        "#     y  = np.reshape(y_vals, (n_y, 1, 1, 1))\n",
        "#     a  = np.reshape(y_vals, (1, n_y, 1, 1))\n",
        "#     yp = np.reshape(y_vals, (1, 1, n_y, 1))\n",
        "#     d  = np.reshape(d_vals, (1, 1, 1, n_d))\n",
        "#     ϕ  = np.reshape(ϕ_vals, (1, 1, 1, n_d))\n",
        "#     feasible = a <= K - y\n",
        "#     temp = (f(y, a, d_vals) == yp) * feasible\n",
        "#     R = np.sum(temp * ϕ_vals, axis=3)\n",
        "#     return R\n",
        "\n",
        "\n",
        "\n",
        "# def build_r(params, y_vals, d_vals, ϕ_vals):\n",
        "#     K, c, κ, p = params\n",
        "#     n_y = K + 1\n",
        "#     r = np.full((n_y, n_y), -np.inf)\n",
        "#     for y in y_vals:\n",
        "#         revenue = np.sum(np.minimum(y, d_vals) * ϕ_vals)\n",
        "#         for a in range(n_y - y):\n",
        "#             cost = c * a + κ * (a > 0)\n",
        "#             r[y, a] = revenue - cost\n",
        "#     return r\n",
        "\n",
        "\n",
        "# def build_r_vectorized(params, y_vals, d_vals, ϕ_vals):\n",
        "#     K, c, κ, p = params\n",
        "#     n_y = K + 1\n",
        "#     n_d = len(d_vals)\n",
        "#     y = np.reshape(y_vals, (n_y, 1))\n",
        "#     d = np.reshape(d_vals, (1, n_d))\n",
        "#     ϕ = np.reshape(ϕ_vals, (1, n_d))\n",
        "#     revenue = np.minimum(y, d) * ϕ\n",
        "#     exp_revenue = np.sum(revenue, axis=1)\n",
        "#     exp_revenue = np.reshape(exp_revenue, (n_y, 1))\n",
        "#     a = np.reshape(y_vals, (1, n_y))\n",
        "#     cost = c * a + κ * (a > 0)\n",
        "#     exp_profit = exp_revenue - cost\n",
        "#     feasible = a <= K - y\n",
        "#     r = np.where(feasible, exp_profit, -np.inf)\n",
        "#     return r\n",
        "\n",
        "\n",
        "# # NamedTuple to hold arrays used to solve model\n",
        "# Arrays = namedtuple(\"Arrays\", (\"r\", \"R\", \"y_vals\", \"z_vals\", \"d_vals\", \"ϕ_vals\",\"Q\"))\n",
        "\n",
        "# # NamedTuple to store parameters, array sizes, and arrays\n",
        "# Model = namedtuple(\"Model\", (\"params\", \"sizes\", \"arrays\"))\n",
        "\n",
        "# def create_sdd_inventory_model(ρ=0.98,        # Z persistence\n",
        "#                                ν=0.002,       # Z volatility\n",
        "#                                n_z=25,        # size of Z grid\n",
        "#                                b=0.97,        # Z mean\n",
        "#                                K=100,         # max inventory\n",
        "#                                d_max=100,     # max value of d\n",
        "#                                c=0.2,         # unit cost\n",
        "#                                κ=0.8,         # fixed cost\n",
        "#                                p=0.6):        # demand parameter\n",
        "\n",
        "#     n_y = K + 1               # size of state space\n",
        "#     y_vals = np.arange(n_y)   # inventory levels 0,...,K\n",
        "\n",
        "#     # Construct r and R arrays\n",
        "#     def ϕ(d):\n",
        "#         return (1 - p)**d * p\n",
        "\n",
        "#     d_vals = np.arange(d_max)\n",
        "#     ϕ_vals = ϕ(d_vals)\n",
        "\n",
        "#     # Build the exogenous discount process\n",
        "#     mc = qe.tauchen(n_z, ρ, ν)\n",
        "#     z_vals, Q = mc.state_values + b, mc.P\n",
        "#     ρL = np.max(np.abs(np.linalg.eigvals(z_vals * Q)))\n",
        "#     if ρL >= 1:\n",
        "#         raise NotImplementedError(\"Error: ρ(L) ≥ 1.\")\n",
        "#     else:\n",
        "#         print(f\"Building model with ρ(L) = {ρL}\")\n",
        "\n",
        "#     # Build namedtuples and return them\n",
        "#     params = Params(K=K, c=c, κ=κ, p=p)\n",
        "#     r = build_r_vectorized(params, y_vals, d_vals, ϕ_vals)\n",
        "#     R = build_R_vectorized(params, y_vals, d_vals, ϕ_vals)\n",
        "\n",
        "#     arrays = Arrays(r=r, R=R, y_vals=y_vals, z_vals=z_vals, d_vals = d_vals, ϕ_vals = ϕ_vals, Q=Q)\n",
        "#     sizes = n_y, n_z\n",
        "#     return Model(params=params, sizes=sizes, arrays=arrays)\n",
        "\n"
      ],
      "metadata": {
        "id": "yGjyP9slJRY3"
      },
      "execution_count": 16,
      "outputs": []
    },
    {
      "cell_type": "markdown",
      "source": [
        "dp_algos:"
      ],
      "metadata": {
        "id": "5ChUBapUJnkX"
      }
    },
    {
      "cell_type": "code",
      "source": [
        "# def value_function_iteration(v_init,\n",
        "#                              T,\n",
        "#                              get_greedy,\n",
        "#                              tolerance=1e-6,        # Error tolerance 1e-6\n",
        "#                              max_iter=10_000,       # Max iteration bound\n",
        "#                              print_step=25,         # Print at multiples\n",
        "#                              verbose=True,\n",
        "#                              usejax=True):\n",
        "#     \"\"\"\n",
        "#         Compute v_star via VFI and then compute greedy.\n",
        "#     \"\"\"\n",
        "#     array_lib = jnp if usejax else np\n",
        "\n",
        "#     v = v_init\n",
        "#     error = tolerance + 1\n",
        "#     k = 1\n",
        "#     while error > tolerance and k <= max_iter:\n",
        "#         v_new = T(v)\n",
        "#         error = array_lib.max(array_lib.abs(v_new - v))\n",
        "#         if verbose and (k % print_step) == 0:\n",
        "#             print(f\"Completed iteration {k} with error {error}.\")\n",
        "#         v = v_new\n",
        "#         k += 1\n",
        "#     if error > tolerance:\n",
        "#         print(f\"Warning: Iteration hit upper bound {max_iter}.\")\n",
        "#     elif verbose:\n",
        "#         print(f\"Terminated successfully in {k} iterations.\")\n",
        "#     v_star = v\n",
        "#     σ_star = get_greedy(v_star)\n",
        "#     return v_star, σ_star\n",
        "\n",
        "\n",
        "# def optimistic_policy_iteration(v_init,\n",
        "#                                 T_σ,\n",
        "#                                 get_greedy,\n",
        "#                                 tolerance=1e-6,\n",
        "#                                 max_iter=1_000,\n",
        "#                                 print_step=10,\n",
        "#                                 m=60,\n",
        "#                                 usejax=True):\n",
        "#     \"Optimistic policy iteration routine.\"\n",
        "\n",
        "#     array_lib = jnp if usejax else np\n",
        "#     v = v_init\n",
        "#     error = tolerance + 1\n",
        "#     k = 1\n",
        "#     while error > tolerance and k < max_iter:\n",
        "#         last_v = v\n",
        "#         σ = get_greedy(v)\n",
        "#         for i in range(m):\n",
        "#             v = T_σ(v, σ)\n",
        "#         error = array_lib.max(array_lib.abs(v - last_v))\n",
        "#         if k % print_step == 0:\n",
        "#             print(f\"Completed iteration {k} with error {error}.\")\n",
        "#         k += 1\n",
        "#     return v, get_greedy(v)\n",
        "\n",
        "\n",
        "# def howard_policy_iteration(v_init,\n",
        "#                             get_value,\n",
        "#                             get_greedy,\n",
        "#                             tolerance=1e-6,\n",
        "#                             max_iter=100,\n",
        "#                             usejax=True):\n",
        "#     \"Howard policy iteration routine.\"\n",
        "#     array_lib = jnp if usejax else np\n",
        "\n",
        "#     σ = get_greedy(v_init)\n",
        "#     error = tolerance + 1\n",
        "#     k = 0\n",
        "#     while error > tolerance and k < max_iter:\n",
        "#         v_σ = get_value(σ)\n",
        "#         σ_new = get_greedy(v_σ)\n",
        "#         error = array_lib.max(array_lib.abs(σ_new - σ))\n",
        "#         σ = σ_new\n",
        "#         k = k + 1\n",
        "#         print(f\"Concluded loop {k} with error {error}.\")\n",
        "#     return v_σ, σ\n"
      ],
      "metadata": {
        "id": "Upl_tFJ6JsOL"
      },
      "execution_count": 17,
      "outputs": []
    }
  ],
  "metadata": {
    "kernelspec": {
      "display_name": "Python 3",
      "name": "python3"
    },
    "language_info": {
      "codemirror_mode": {
        "name": "ipython",
        "version": 3
      },
      "file_extension": ".py",
      "mimetype": "text/x-python",
      "name": "python",
      "nbconvert_exporter": "python",
      "pygments_lexer": "ipython3",
      "version": "3.10.12"
    },
    "orig_nbformat": 4,
    "colab": {
      "provenance": [],
      "gpuType": "T4"
    },
    "accelerator": "GPU"
  },
  "nbformat": 4,
  "nbformat_minor": 0
}